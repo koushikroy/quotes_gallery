{
 "cells": [
  {
   "cell_type": "code",
   "execution_count": 17,
   "metadata": {},
   "outputs": [
    {
     "name": "stderr",
     "output_type": "stream",
     "text": [
      "C:\\Users\\Admin\\AppData\\Local\\Temp\\ipykernel_29232\\3830679651.py:20: DeprecationWarning: LANCZOS is deprecated and will be removed in Pillow 10 (2023-07-01). Use Resampling.LANCZOS instead.\n",
      "  resized_image = image.resize((new_width, new_height), Image.LANCZOS)\n"
     ]
    }
   ],
   "source": [
    "from PIL import Image, ImageOps\n",
    "\n",
    "def resize_with_borders(image, target_width, target_height):\n",
    "    # Calculate the aspect ratio of the original image\n",
    "    original_width, original_height = image.size\n",
    "    aspect_ratio = original_width / original_height\n",
    "\n",
    "    # Calculate the aspect ratio of the target size\n",
    "    target_ratio = target_width / target_height\n",
    "\n",
    "    # Calculate the new width and height based on the target size while maintaining the aspect ratio\n",
    "    if aspect_ratio > target_ratio:\n",
    "        new_width = target_width\n",
    "        new_height = int(target_width / aspect_ratio)\n",
    "    else:\n",
    "        new_width = int(target_height * aspect_ratio)\n",
    "        new_height = target_height\n",
    "\n",
    "    # Resize the image to the calculated new size\n",
    "    resized_image = image.resize((new_width, new_height), Image.LANCZOS)\n",
    "\n",
    "    # Create a new blank image with the target size and the background color of the original image\n",
    "    background_color = image.getpixel((0, 0))  # Get the top-left pixel color of the original image\n",
    "    border_image = Image.new(image.mode, (target_width, target_height), background_color)\n",
    "\n",
    "    # Calculate the position to paste the resized image in the center\n",
    "    x_offset = (target_width - new_width) // 2\n",
    "    y_offset = (target_height - new_height) // 2\n",
    "\n",
    "    # Paste the resized image on the new image with borders\n",
    "    border_image.paste(resized_image, (x_offset, y_offset))\n",
    "\n",
    "    return border_image\n",
    "\n",
    "# Example usage:\n",
    "image = Image.open(\"backgrounds/joel-gada-barenco-UiSYdMB14-M-unsplash.jpg\")\n",
    "new_width = 500\n",
    "new_height = 500\n",
    "resized_image = resize_with_borders(image, new_width, new_height)\n",
    "resized_image.show()\n",
    "# resized_image.save(\"backgrounds/ashish-kumar-senapati-mK7gtt15Kus-unsplash_resized.jpg\")\n"
   ]
  }
 ],
 "metadata": {
  "kernelspec": {
   "display_name": "base",
   "language": "python",
   "name": "python3"
  },
  "language_info": {
   "codemirror_mode": {
    "name": "ipython",
    "version": 3
   },
   "file_extension": ".py",
   "mimetype": "text/x-python",
   "name": "python",
   "nbconvert_exporter": "python",
   "pygments_lexer": "ipython3",
   "version": "3.9.15"
  },
  "orig_nbformat": 4
 },
 "nbformat": 4,
 "nbformat_minor": 2
}
